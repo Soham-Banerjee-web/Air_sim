{
 "cells": [
  {
   "cell_type": "markdown",
   "metadata": {},
   "source": [
    "# Aerospace Communication Simulation Prototype\n",
    "\n",
    "This notebook serves as a prototype for simulating multiple aircraft communicating with each other in a defined region. The goal is to explore the interaction between aircraft and ensure seamless flights through effective communication."
   ]
  },
  {
   "cell_type": "code",
   "execution_count": null,
   "metadata": {},
   "outputs": [],
   "source": [
    "# Import necessary modules\n",
    "from src.sim.simulation import Simulation\n",
    "from src.agents.aircraft import Aircraft\n",
    "from src.agents.traffic_manager import TrafficManager\n",
    "from src.environment.region import Region\n",
    "from src.comms.protocol import Protocol\n",
    "\n",
    "# Initialize simulation parameters\n",
    "num_aircraft = 5\n",
    "region_bounds = (0, 100, 0, 100)  # (x_min, x_max, y_min, y_max)\n",
    "\n",
    "# Create a region for the simulation\n",
    "region = Region(bounds=region_bounds)\n",
    "\n",
    "# Initialize aircraft\n",
    "aircraft_list = [Aircraft(id=i, region=region) for i in range(num_aircraft)]\n",
    "\n",
    "# Initialize traffic manager\n",
    "traffic_manager = TrafficManager(aircraft_list)\n",
    "\n",
    "# Create a simulation instance\n",
    "simulation = Simulation(region, traffic_manager)\n",
    "\n",
    "# Run the simulation\n",
    "simulation.run()  # This will start the simulation loop"
   ]
  },
  {
   "cell_type": "markdown",
   "metadata": {},
   "source": [
    "## Observations\n",
    "\n",
    "After running the simulation, we can analyze the communication between aircraft and their movements within the defined region. Further experiments can be conducted by modifying parameters such as the number of aircraft, their initial positions, and communication protocols."
   ]
  }
 ],
 "metadata": {
  "kernelspec": {
   "display_name": "Python 3",
   "language": "python",
   "name": "python3"
  },
  "language_info": {
   "codemirror_mode": {
    "name": "ipython",
    "version": 3
   },
   "file_extension": ".py",
   "mimetype": "text/x-python",
   "name": "python",
   "nbconvert_exporter": "python",
   "pygments_lexer": "ipython3",
   "version": "3.8.5"
  }
 },
 "nbformat": 4,
 "nbformat_minor": 4
}